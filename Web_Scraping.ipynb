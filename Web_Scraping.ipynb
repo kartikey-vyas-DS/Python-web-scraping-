{
 "cells": [
  {
   "cell_type": "code",
   "execution_count": 1,
   "metadata": {},
   "outputs": [
    {
     "name": "stdout",
     "output_type": "stream",
     "text": [
      "HTML content fetched successfully!\n"
     ]
    }
   ],
   "source": [
    "import requests\n",
    "from bs4 import BeautifulSoup\n",
    "\n",
    "# URL of the website to scrape\n",
    "url = \"https://kartikey-vyas-ds.github.io/\"\n",
    "\n",
    "# Fetch the HTML content of the page\n",
    "response = requests.get(url)\n",
    "\n",
    "# Check if the request was successful\n",
    "if response.status_code == 200:\n",
    "    html_content = response.text\n",
    "    print(\"HTML content fetched successfully!\")\n",
    "else:\n",
    "    print(f\"Failed to fetch the page. Status code: {response.status_code}\")\n",
    "\n",
    "# Parse the HTML content using BeautifulSoup\n",
    "soup = BeautifulSoup(html_content, 'html.parser')"
   ]
  },
  {
   "cell_type": "code",
   "execution_count": 5,
   "metadata": {},
   "outputs": [
    {
     "data": {
      "text/plain": [
       "[{'heading': 'Target Business Case study using SQL',\n",
       "  'Links': 'https://github.com/kartikey-vyas-DS/Target-Business-Case-study-using-Bigquery-SQL',\n",
       "  'Description': \"Analyzed this Ecommerce company's data to understand Sales fluctuations over time and ways to boost sales.\"},\n",
       " {'heading': \"Data Analysis on Car features's Impact on prices using Advanced Excel\",\n",
       "  'Links': 'https://github.com/kartikey-vyas-DS/Analysing-the-Impact-of-Car-Features-on-Price-and-profitability--using-excel-',\n",
       "  'Description': \"Operated advanced Excel techniques to analyze a dataset ('Car Features and MSRP') comprising over 11,000 data points. Conducted EDA to identify key factors driving consumer behaviour and profitability trends in the automotive industry. .\"},\n",
       " {'heading': 'Tableau Dashboard on IMDB Movie Dataset',\n",
       "  'Links': 'https://github.com/kartikey-vyas-DS/Tableau-Dashboard-on-IMDB-Movie-Dataset',\n",
       "  'Description': 'Designed a Tableau dashboard for a dataset on IMDB Scores, identified most profit making movies, highest budget, best directors and impact of Users and Critique reviews on IMDB Scores.'},\n",
       " {'heading': 'Traffic Volume forecasting using Python & ML',\n",
       "  'Links': 'https://github.com/kartikey-vyas-DS/Traffic-Volume-Prediction-',\n",
       "  'Description': 'Demonstrated expertise in data preprocessing, feature engineering, and model optimization, culminating in significant improvement in model performance..'},\n",
       " {'heading': 'Stock Market Forecasting as a Classification Model',\n",
       "  'Links': 'https://github.com/kartikey-vyas-DS/Stock-market-prediction-',\n",
       "  'Description': 'imported YFinance to gather real-time data on selected stocks and indexes. generated technical indicators and developed a custom \"rsi package\" (RSI) values, defined function for closing ratio and trend identification across 5 time frames, further applied several models to solve the Classification Problem.'}]"
      ]
     },
     "execution_count": 5,
     "metadata": {},
     "output_type": "execute_result"
    }
   ],
   "source": [
    "projects = []\n",
    "for link in soup.find_all('h3', class_='heading'):\n",
    "    a_tag= link.find('a')\n",
    "    href = a_tag.get('href')\n",
    "    title = a_tag.text.strip()\n",
    "\n",
    "    p_tag = link.find_next_sibling('p',class_= 'justified-text')\n",
    "    description= p_tag.text if p_tag else ''\n",
    "    projects.append({\n",
    "        'heading':title,\n",
    "        'Links': href,\n",
    "        'Description':description\n",
    "    })\n",
    "\n",
    "projects"
   ]
  }
 ],
 "metadata": {
  "kernelspec": {
   "display_name": "Python 3",
   "language": "python",
   "name": "python3"
  },
  "language_info": {
   "codemirror_mode": {
    "name": "ipython",
    "version": 3
   },
   "file_extension": ".py",
   "mimetype": "text/x-python",
   "name": "python",
   "nbconvert_exporter": "python",
   "pygments_lexer": "ipython3",
   "version": "3.12.3"
  }
 },
 "nbformat": 4,
 "nbformat_minor": 2
}
